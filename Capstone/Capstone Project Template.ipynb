{
 "cells": [
  {
   "cell_type": "markdown",
   "metadata": {
    "editable": true
   },
   "source": [
    "# Project Title\n",
    "### Data Engineering Capstone Project\n",
    "\n",
    "#### Project Summary\n",
    "--describe your project at a high level--\n",
    "\n",
    "The project follows the follow steps:\n",
    "* Step 1: Scope the Project and Gather Data\n",
    "* Step 2: Explore and Assess the Data\n",
    "* Step 3: Define the Data Model\n",
    "* Step 4: Run ETL to Model the Data\n",
    "* Step 5: Complete Project Write Up"
   ]
  },
  {
   "cell_type": "code",
   "execution_count": 1,
   "metadata": {
    "editable": true
   },
   "outputs": [],
   "source": [
    "# Do all imports and installs here\n",
    "import pandas as pd\n",
    "import os\n",
    "from pyspark.sql import SparkSession\n",
    "from pyspark.sql.functions import date_add, col, udf\n",
    "\n",
    "from datetime import datetime, timedelta\n",
    "from pyspark.sql import types as T\n",
    "\n",
    "\n",
    "from functools import reduce\n",
    "from pyspark.sql import DataFrame\n",
    "from pyspark.sql.functions import create_map, lit\n",
    "from itertools import chain\n",
    "pd.options.display.max_columns = None\n",
    "pd.options.display.max_rows = None\n",
    "from pyspark.sql.functions import year,desc,asc,to_date\n",
    "import pyspark.sql.functions as f\n",
    "from pyspark.sql.functions import col, avg, year\n",
    "from pyspark.sql.types import StructType\n",
    "from pyspark.sql.types import StructField\n",
    "from pyspark.sql.types import StringType\n",
    "from pyspark.sql.types import DoubleType\n",
    "from pyspark.sql import Row\n",
    "import pandas as pd\n",
    "\n",
    "from pyspark.sql import SparkSession\n",
    "from pyspark.sql.functions import date_add, col, udf\n",
    "\n",
    "from datetime import datetime, timedelta\n",
    "from pyspark.sql import types as T\n"
   ]
  },
  {
   "cell_type": "markdown",
   "metadata": {
    "editable": true
   },
   "source": [
    "### Step 1: Scope the Project and Gather Data\n",
    "\n",
    "#### Scope \n",
    "Explain what you plan to do in the project in more detail. What data do you use? What is your end solution look like? What tools did you use? etc>\n",
    "\n",
    "#### Describe and Gather Data \n",
    "Describe the data sets you're using. Where did it come from? What type of information is included? "
   ]
  },
  {
   "cell_type": "code",
   "execution_count": 3,
   "metadata": {
    "editable": true
   },
   "outputs": [
    {
     "name": "stdout",
     "output_type": "stream",
     "text": [
      "../../data/18-83510-I94-Data-2016/i94_apr16_sub.sas7bdat\n",
      "the count is 3096313\n",
      "../../data/18-83510-I94-Data-2016/i94_sep16_sub.sas7bdat\n",
      "the count is 3733786\n",
      "../../data/18-83510-I94-Data-2016/i94_nov16_sub.sas7bdat\n",
      "the count is 2914926\n",
      "../../data/18-83510-I94-Data-2016/i94_mar16_sub.sas7bdat\n",
      "the count is 3157072\n",
      "../../data/18-83510-I94-Data-2016/i94_jun16_sub.sas7bdat\n",
      "the count is 3574989\n",
      "../../data/18-83510-I94-Data-2016/i94_aug16_sub.sas7bdat\n",
      "the count is 4103570\n",
      "../../data/18-83510-I94-Data-2016/i94_may16_sub.sas7bdat\n",
      "the count is 3444249\n",
      "../../data/18-83510-I94-Data-2016/i94_jan16_sub.sas7bdat\n",
      "the count is 2847924\n",
      "../../data/18-83510-I94-Data-2016/i94_oct16_sub.sas7bdat\n",
      "the count is 3649136\n",
      "../../data/18-83510-I94-Data-2016/i94_jul16_sub.sas7bdat\n",
      "the count is 4265031\n",
      "../../data/18-83510-I94-Data-2016/i94_feb16_sub.sas7bdat\n",
      "the count is 2570543\n",
      "../../data/18-83510-I94-Data-2016/i94_dec16_sub.sas7bdat\n",
      "the count is 3432990\n",
      "df_complete.count() total is 40790529\n"
     ]
    }
   ],
   "source": [
    "spark = SparkSession.builder.\\\n",
    "config(\"spark.jars.packages\",\"saurfang:spark-sas7bdat:2.0.0-s_2.11\")\\\n",
    ".enableHiveSupport().getOrCreate()\n",
    "\n",
    "sas_filenames = [os.path.join('../../data/18-83510-I94-Data-2016', fn) for fn in os.listdir('../../data/18-83510-I94-Data-2016')]\n",
    "#sas_filenames = [\"/tmp/i94_apr16_sub.sas7bdat\"]\n",
    "dfs = []\n",
    "\n",
    "i94_headers = ['cicid', 'i94yr', 'i94mon', 'i94cit', 'i94res', 'i94port', 'arrdate',\n",
    "       'i94mode', 'i94addr', 'depdate', 'i94bir', 'i94visa', 'count',\n",
    "       'visapost', 'occup', 'entdepa', 'entdepd', 'entdepu',\n",
    "       'matflag', 'biryear', 'dtaddto', 'gender', 'insnum', 'airline',\n",
    "       'admnum', 'fltno', 'visatype']\n",
    "\n",
    "\n",
    "def convert_datetime(x):\n",
    "    try:\n",
    "        start = datetime(1960, 1, 1)\n",
    "        return start + timedelta(days=int(x))\n",
    "    except:\n",
    "        return None\n",
    "    \n",
    "udf_datetime_from_sas = udf(lambda x: convert_datetime(x), T.DateType())\n",
    "\n",
    "\n",
    "for f in sas_filenames:\n",
    "    print(f)\n",
    "    \"    #df_spark.unionAll(spark.read.format('com.github.saurfang.sas.spark').load(f.select('cicid')))\\n\",\n",
    "    \"    #df_spark =spark.read.format('com.github.saurfang.sas.spark').load(f)\\n\",\n",
    "    \"    #df_spark.show()\\n\",\n",
    "    df = spark.read.format('com.github.saurfang.sas.spark') \\\n",
    "               .load(f) \\\n",
    "               .select(*i94_headers) \\\n",
    "               .withColumn(\"arrdate\", udf_datetime_from_sas(\"arrdate\"))\\\n",
    "               .withColumn(\"depdate\", udf_datetime_from_sas(\"depdate\"))\n",
    "    dfs.append(df)\n",
    "    \"    #df1 = df.select(*headers)\\n\",\n",
    "    print(f'the count is {df.count()}')\n",
    "    \"    #df_spark.union(df1)\\n\",\n",
    "df_complete = reduce(DataFrame.unionAll, dfs)\n",
    "print(f'df_complete.count() total is {df_complete.count()}')\n",
    "\n",
    "\n",
    "\n",
    "\n",
    "\n"
   ]
  },
  {
   "cell_type": "code",
   "execution_count": 4,
   "metadata": {
    "editable": true
   },
   "outputs": [],
   "source": [
    "#Enhance\n",
    "countryNames = spark.read.option(\"header\",True) \\\n",
    "       .csv(\"I94CIT_I94RES.csv\")\n",
    "df_complete = df_complete.withColumn('rough_age', year(df_complete['arrdate']) - df_complete['biryear'])\n",
    "df_complete = df_complete.join(countryNames, on=['i94res'], how='left')\n",
    "\n",
    "\n"
   ]
  },
  {
   "cell_type": "code",
   "execution_count": 6,
   "metadata": {
    "editable": true
   },
   "outputs": [
    {
     "name": "stdout",
     "output_type": "stream",
     "text": [
      "root\n",
      " |-- visatype: string (nullable = true)\n",
      " |-- visagroup: string (nullable = true)\n",
      " |-- visacategory: string (nullable = true)\n",
      "\n"
     ]
    },
    {
     "data": {
      "text/plain": [
       "Row(visatype='B2', visagroup='Temporary visitors for pleasure', visacategory='Temporary workers and trainees', i94res=692.0, cicid=6.0, i94yr=2016.0, i94mon=4.0, i94cit=692.0, i94port='XXX', arrdate=datetime.date(2016, 4, 29), i94mode=None, i94addr=None, depdate=None, i94bir=37.0, i94visa=2.0, count=1.0, visapost=None, occup=None, entdepa='T', entdepd=None, entdepu='U', matflag=None, biryear=1979.0, dtaddto='10282016', gender=None, insnum=None, airline=None, admnum=1897628485.0, fltno=None, rough_age=37.0, country_name='ECUADOR')"
      ]
     },
     "execution_count": 6,
     "metadata": {},
     "output_type": "execute_result"
    }
   ],
   "source": [
    "#Enhance\n",
    "csvs = spark.read.option(\"header\",True) \\\n",
    "       .csv(\"visa_cats.csv\")\n",
    "csvs.printSchema()\n",
    "dffin = csvs.join(df_complete, on=['visatype'], how='inner')\n",
    "\n",
    "dffin.head()"
   ]
  },
  {
   "cell_type": "code",
   "execution_count": null,
   "metadata": {
    "editable": true
   },
   "outputs": [],
   "source": [
    "countryTemps = spark.read.option(\"header\",True) \\\n",
    "       .csv(\"GlobalLandTemperaturesByCountry.csv\") \\\n",
    "       .withColumn(\"dt\", to_date(col('dt'), 'yyyy-MM-dd')) \\\n",
    "       .withColumn('years',f.year(col('dt')))"
   ]
  },
  {
   "cell_type": "markdown",
   "metadata": {
    "editable": true
   },
   "source": [
    "### Step 2: Explore and Assess the Data\n",
    "#### Explore the Data \n",
    "Identify data quality issues, like missing values, duplicate data, etc.\n",
    "\n",
    "#### Cleaning Steps\n",
    "Document steps necessary to clean the data"
   ]
  },
  {
   "cell_type": "code",
   "execution_count": 4,
   "metadata": {
    "editable": true
   },
   "outputs": [
    {
     "name": "stdout",
     "output_type": "stream",
     "text": [
      "+--------+\n",
      "|visatype|\n",
      "+--------+\n",
      "|      F2|\n",
      "|     GMB|\n",
      "|      B2|\n",
      "|      F1|\n",
      "|     CPL|\n",
      "|      I1|\n",
      "|      WB|\n",
      "|      M1|\n",
      "|      B1|\n",
      "|      WT|\n",
      "|      M2|\n",
      "|      CP|\n",
      "|     GMT|\n",
      "|      E1|\n",
      "|       I|\n",
      "|      E2|\n",
      "|     SBP|\n",
      "+--------+\n",
      "\n"
     ]
    }
   ],
   "source": [
    "# Performing cleaning tasks here\n",
    "df_spark.head()\n",
    "df_spark.select([\"visatype\"]).distinct().show()\n",
    "#For every visa type I added which visagroup and which visacategory it belongs to according to the\n",
    "#https://www.dhs.gov/immigration-statistics/nonimmigrant/NonimmigrantCOA website. The result is visa_cats.csv\n",
    "#CPL,CP,SBP are missing definitions from that website. I sent a message to DHS via their website, https://www.dhs.gov/, asking what they\n",
    "#stand for. Are they amalgamations of existing categories? I never received a reply.\n",
    "\n"
   ]
  },
  {
   "cell_type": "code",
   "execution_count": null,
   "metadata": {
    "editable": true
   },
   "outputs": [],
   "source": [
    "#Claudia C. Wolfe of the NTTO sent me a list of values for the i94 Data - see 835-10_Variables_Included_in_I94_Data.csv. According to that\n",
    "#spreadsheet dtadfile is an 'Unknown variable'. Accordingly I haven't included it in the list of i94_headers\n"
   ]
  },
  {
   "cell_type": "code",
   "execution_count": 5,
   "metadata": {
    "editable": true
   },
   "outputs": [
    {
     "name": "stdout",
     "output_type": "stream",
     "text": [
      "+-----+\n",
      "|occup|\n",
      "+-----+\n",
      "|  PHA|\n",
      "|  ENT|\n",
      "|  REL|\n",
      "|  ACH|\n",
      "|  101|\n",
      "|  EMM|\n",
      "|  ULS|\n",
      "|  GEN|\n",
      "|  DVM|\n",
      "|  MTH|\n",
      "|  SVC|\n",
      "|  ECH|\n",
      "|  EXA|\n",
      "|  ENV|\n",
      "|  ENP|\n",
      "|  PRF|\n",
      "|  VOC|\n",
      "| null|\n",
      "|  AST|\n",
      "|  TCH|\n",
      "+-----+\n",
      "only showing top 20 rows\n",
      "\n"
     ]
    }
   ],
   "source": [
    "df_spark.select([\"occup\"]).distinct().show()\n",
    "#I sent an email to TTO@trade.gov asking what these values mean. Claudia C. Wolfe wrote \"I regret that we do not have access to a dictionary that provides an explanation\n",
    "#of the codes used to describe the occupation performed in the United States\" See NTTO_Email.txt"
   ]
  },
  {
   "cell_type": "code",
   "execution_count": 31,
   "metadata": {
    "editable": true
   },
   "outputs": [
    {
     "data": {
      "text/plain": [
       "41"
      ]
     },
     "execution_count": 31,
     "metadata": {},
     "output_type": "execute_result"
    }
   ],
   "source": [
    "#There are 41 people who are 100 years old or greater. How can people that old immigrate to the U.S.? Or is there an error somewhere?\n",
    "\n",
    "from pyspark.sql.functions import year,desc,asc\n",
    "\n",
    "age = df_spark.withColumn('rough_age', year(df_spark['arrdate']) - df_spark['biryear'])\n",
    "age.filter(age.rough_age.isNotNull()).orderBy(asc(\"biryear\")).where(age.rough_age >= 100).count()"
   ]
  },
  {
   "cell_type": "code",
   "execution_count": 32,
   "metadata": {
    "editable": true
   },
   "outputs": [
    {
     "name": "stdout",
     "output_type": "stream",
     "text": [
      "+---------+------+------+------+------+-------+----------+-------+-------+----------+------+-------+-----+--------+-----+-------+-------+-------+-------+-------+--------+------+------+-------+---------------+-----+--------+---------+\n",
      "|    cicid| i94yr|i94mon|i94cit|i94res|i94port|   arrdate|i94mode|i94addr|   depdate|i94bir|i94visa|count|visapost|occup|entdepa|entdepd|entdepu|matflag|biryear| dtaddto|gender|insnum|airline|         admnum|fltno|visatype|rough_age|\n",
      "+---------+------+------+------+------+-------+----------+-------+-------+----------+------+-------+-----+--------+-----+-------+-------+-------+-------+-------+--------+------+------+-------+---------------+-----+--------+---------+\n",
      "|5956548.0|2016.0|   4.0| 254.0| 276.0|    AGA|2016-04-08|    1.0|     GU|      null| 114.0|    2.0|  1.0|    null| null|      A|   null|   null|   null| 1902.0|05232016|     M|  3693|     TW|4.8501050733E10|00301|     GMT|    114.0|\n",
      "|5981723.0|2016.0|   4.0| 254.0| 276.0|    AGA|2016-04-21|    1.0|     GU|      null| 111.0|    2.0|  1.0|    null| null|      A|   null|   null|   null| 1905.0|06042016|     M|  3698|     KE|4.1965408028E10|00111|     GMT|    111.0|\n",
      "|5981260.0|2016.0|   4.0| 254.0| 276.0|    AGA|2016-04-15|    1.0|     GU|      null| 110.0|    2.0|  1.0|    null| null|      A|   null|   null|   null| 1906.0|05292016|     F|  3954|     7C|4.5116230633E10|03102|     GMT|    110.0|\n",
      "|5902938.0|2016.0|   4.0| 438.0| 438.0|    HHW|2016-04-15|    9.0|     HI|      null| 109.0|    2.0|  1.0|    null| null|      A|   null|   null|   null| 1907.0|07142016|     M|  3562|   null|4.7114237733E10| null|      WT|    109.0|\n",
      "|5957453.0|2016.0|   4.0| 254.0| 276.0|    SAI|2016-04-08|    1.0|     GU|      null| 109.0|    2.0|  1.0|    null| null|      A|   null|   null|   null| 1907.0|05222016|     M|  3972|     7C|4.5119226233E10|03404|     GMT|    109.0|\n",
      "|5903797.0|2016.0|   4.0| 116.0| 135.0|    SDP|2016-04-02|    9.0|   null|      null| 108.0|    2.0|  1.0|    null| null|      A|   null|   null|   null| 1908.0|06302016|     M|  5069|   null|4.4052661833E10| null|      WT|    108.0|\n",
      "|5981724.0|2016.0|   4.0| 254.0| 276.0|    AGA|2016-04-21|    1.0|     GU|      null| 108.0|    2.0|  1.0|    null| null|      A|   null|   null|   null| 1908.0|06052016|     F|  3676|     KE|4.1965198128E10|00111|     GMT|    108.0|\n",
      "|5903816.0|2016.0|   4.0| 117.0| 438.0|    HHW|2016-04-20|    9.0|     HI|      null| 107.0|    2.0|  1.0|    null| null|      A|   null|   null|   null| 1909.0|07182016|     M|  3518|   null|4.7126658533E10| null|      WT|    107.0|\n",
      "|5905823.0|2016.0|   4.0| 438.0| 438.0|    HHW|2016-04-20|    9.0|   null|      null| 105.0|    2.0|  1.0|    null| null|      A|   null|   null|   null| 1911.0|07102016|     M|  3468|   null|4.7118595533E10| null|      WT|    105.0|\n",
      "|5946801.0|2016.0|   4.0| 245.0| 245.0|    SAI|2016-04-10|    1.0|   null|      null| 105.0|    2.0|  1.0|    null| null|      P|   null|   null|   null| 1911.0|04252016|     M|  3880|     OZ|4.5556175633E10|00625|      CP|    105.0|\n",
      "|5905908.0|2016.0|   4.0| 438.0| 438.0|    HHW|2016-04-20|    9.0|     HI|      null| 103.0|    2.0|  1.0|    null| null|      A|   null|   null|   null| 1913.0|07182016|     M|  3562|   null|4.7126853833E10| null|      WT|    103.0|\n",
      "|5925484.0|2016.0|   4.0| 112.0| 112.0|    XXX|2016-04-25|    9.0|     HI|      null| 102.0|    2.0|  1.0|    null| null|      A|   null|   null|   null| 1914.0|07242016|     F|  3827|   null|4.7112138533E10| null|      WT|    102.0|\n",
      "|5926326.0|2016.0|   4.0| 180.0| 438.0|    KOA|2016-04-25|    9.0|     HI|      null| 102.0|    2.0|  1.0|    null| null|      A|   null|   null|   null| 1914.0|07242016|     F|  3762|   null|4.7115851033E10| null|      WT|    102.0|\n",
      "|5908949.0|2016.0|   4.0| 999.0| 104.0|    NYC|2016-04-02|    9.0|   null|      null| 102.0|    2.0|  1.0|    null| null|      A|   null|   null|   null| 1914.0|07012016|     M|  5054|   null|4.4052614033E10| null|      WT|    102.0|\n",
      "|5905824.0|2016.0|   4.0| 438.0| 438.0|    HHW|2016-04-20|    9.0|   null|      null| 102.0|    2.0|  1.0|    null| null|      A|   null|   null|   null| 1914.0|07182016|     F|  3518|   null|4.7118092233E10| null|      WT|    102.0|\n",
      "|5905372.0|2016.0|   4.0| 180.0| 438.0|    HHW|2016-04-20|    9.0|     HI|      null| 101.0|    2.0|  1.0|    null| null|      A|   null|   null|   null| 1915.0|07182016|     F|  3558|   null|4.7118197733E10| null|      WT|    101.0|\n",
      "|5981625.0|2016.0|   4.0| 254.0| 276.0|    AGA|2016-04-19|    1.0|     GU|      null| 101.0|    2.0|  1.0|    null| null|      A|   null|   null|   null| 1915.0|06032016|     F|  3661|     TW|8.6914328624E10|00301|     GMT|    101.0|\n",
      "| 576185.0|2016.0|   4.0| 582.0| 582.0|    SFR|2016-04-03|    1.0|     CA|2016-04-08| 100.0|    1.0|  1.0|     MEX| null|      G|      O|   null|      M| 1916.0|10022016|     M|  null|     AM| 9.266356743E10|00668|      B1|    100.0|\n",
      "|5905909.0|2016.0|   4.0| 438.0| 438.0|    HHW|2016-04-20|    9.0|     HI|      null| 100.0|    2.0|  1.0|    null| null|      A|   null|   null|   null| 1916.0|07182016|     M|  3605|   null|4.7118063933E10| null|      WT|    100.0|\n",
      "|3298144.0|2016.0|   4.0| 696.0| 696.0|    MIA|2016-04-17|    1.0|     MI|2016-05-09| 100.0|    2.0|  1.0|     CRS| null|      G|      O|   null|      M| 1916.0|10162016|     M|  null|     AA| 9.383651303E10|00914|      B2|    100.0|\n",
      "+---------+------+------+------+------+-------+----------+-------+-------+----------+------+-------+-----+--------+-----+-------+-------+-------+-------+-------+--------+------+------+-------+---------------+-----+--------+---------+\n",
      "only showing top 20 rows\n",
      "\n"
     ]
    }
   ],
   "source": [
    "#There is a 114 year old, 111 year old, and a 110 year old. How can people that old immigrate to the U.S.? Or is there an error somewhere?\n",
    "\n",
    "from pyspark.sql.functions import year,desc,asc\n",
    "\n",
    "age = df_spark.withColumn('rough_age', year(df_spark['arrdate']) - df_spark['biryear'])\n",
    "age.filter(age.rough_age.isNotNull()).orderBy(asc(\"biryear\")).show()"
   ]
  },
  {
   "cell_type": "code",
   "execution_count": 34,
   "metadata": {
    "editable": true
   },
   "outputs": [
    {
     "name": "stdout",
     "output_type": "stream",
     "text": [
      "+---------+------+------+------+------+-------+----------+-------+-------+----------+------+-------+-----+--------+-----+-------+-------+-------+-------+-------+--------+------+------+-------+---------------+-----+--------+---------+\n",
      "|    cicid| i94yr|i94mon|i94cit|i94res|i94port|   arrdate|i94mode|i94addr|   depdate|i94bir|i94visa|count|visapost|occup|entdepa|entdepd|entdepu|matflag|biryear| dtaddto|gender|insnum|airline|         admnum|fltno|visatype|rough_age|\n",
      "+---------+------+------+------+------+-------+----------+-------+-------+----------+------+-------+-----+--------+-----+-------+-------+-------+-------+-------+--------+------+------+-------+---------------+-----+--------+---------+\n",
      "|5952559.0|2016.0|   4.0| 252.0| 209.0|    AGA|2016-04-10|    1.0|   null|      null|  -3.0|    2.0|  1.0|    null| null|      A|   null|   null|   null| 2019.0|05242016|     M|  null|   null|5.7545310233E10|00001|     GMT|     -3.0|\n",
      "|1051118.0|2016.0|   4.0| 438.0| 438.0|    HHW|2016-04-06|    1.0|     CA|2016-04-22|   0.0|    2.0|  1.0|    null| null|      G|      O|   null|      M| 2016.0|07042016|     M|  null|     HA|5.5726984633E10|00452|      WT|      0.0|\n",
      "|1014584.0|2016.0|   4.0| 135.0| 135.0|    LVG|2016-04-06|    1.0|     FL|2016-04-13|   0.0|    2.0|  1.0|    null| null|      G|      O|   null|      M| 2016.0|07042016|     F|  null|    TOM|5.5716266033E10|00070|      WT|      0.0|\n",
      "|1191128.0|2016.0|   4.0| 135.0| 464.0|    FTL|2016-04-07|    1.0|   null|2016-04-08|   0.0|    2.0|  1.0|    null| null|      G|      O|   null|      M| 2016.0|07052016|     M|  null|     NZ|5.5792643633E10|00001|      WT|      0.0|\n",
      "| 849210.0|2016.0|   4.0| 135.0| 135.0|    NYC|2016-04-05|    1.0|     NJ|2016-05-02|   0.0|    2.0|  1.0|    null| null|      O|      I|   null|      M| 2016.0|07032016|  null|  null|     DL|5.5666811933E10|00221|      WT|      0.0|\n",
      "|1012818.0|2016.0|   4.0| 135.0| 135.0|    LOS|2016-04-06|    1.0|     FL|2016-04-27|   0.0|    2.0|  1.0|    null| null|      O|      O|   null|      M| 2016.0|07042016|  null|  null|     VS|5.5726249433E10|00015|      WT|      0.0|\n",
      "|1176031.0|2016.0|   4.0| 131.0| 131.0|    NYC|2016-04-07|    1.0|     NY|2016-04-12|   0.0|    2.0|  1.0|    null| null|      O|      O|   null|      M| 2016.0|07052016|  null|  null|     LX|5.5769602233E10|00014|      WT|      0.0|\n",
      "|1051117.0|2016.0|   4.0| 438.0| 438.0|    HHW|2016-04-06|    1.0|     CA|2016-04-22|   0.0|    2.0|  1.0|    null| null|      G|      O|   null|      M| 2016.0|07042016|     M|  null|     HA|5.5726906733E10|00452|      WT|      0.0|\n",
      "| 822144.0|2016.0|   4.0| 111.0| 112.0|    CHI|2016-04-05|    1.0|     MI|2016-04-18|   0.0|    2.0|  1.0|    null| null|      O|      O|   null|      M| 2016.0|07032016|  null|  null|     LH|5.5686557833E10|00434|      WT|      0.0|\n",
      "| 468472.0|2016.0|   4.0| 135.0| 135.0|    ORL|2016-04-03|    1.0|     FL|2016-04-16|   0.0|    2.0|  1.0|    null| null|      G|      O|   null|      M| 2016.0|07012016|     F|  null|     VS|5.5547361033E10|00075|      WT|      0.0|\n",
      "| 612581.0|2016.0|   4.0| 687.0| 687.0|    MIA|2016-04-03|    1.0|     FL|2016-04-13|   0.0|    2.0|  1.0|     BNS| null|      G|      O|   null|      M| 2016.0|10022016|     F|  null|     AR| 9.262529393E10|01302|      B2|      0.0|\n",
      "|1010950.0|2016.0|   4.0| 135.0| 135.0|    LVG|2016-04-06|    1.0|   null|2016-04-20|   0.0|    2.0|  1.0|    null| null|      O|      O|   null|      M| 2016.0|07042016|  null|  null|     VS|5.5724312533E10|00073|      WT|      0.0|\n",
      "|1040339.0|2016.0|   4.0| 251.0| 251.0|    LOS|2016-04-06|    1.0|     CA|2016-04-19|   0.0|    2.0|  1.0|     TLV| null|      G|      O|   null|      M| 2016.0|10052016|     M|  null|     LY|   6.85137985E8|    5|      B2|      0.0|\n",
      "|1173487.0|2016.0|   4.0| 130.0| 130.0|    ATL|2016-04-07|    1.0|     FL|      null|   0.0|    2.0|  1.0|    null| null|      G|   null|   null|   null| 2016.0|07052016|     M|  null|     DL|5.5758511533E10|00073|      WT|      0.0|\n",
      "| 986503.0|2016.0|   4.0| 111.0| 111.0|    NYC|2016-04-06|    1.0|     NY|2016-05-03|   0.0|    2.0|  1.0|    null| null|      G|      K|   null|      M| 2016.0|07042016|     F|  null|     SE|5.5739244033E10|00030|      WT|      0.0|\n",
      "|1190038.0|2016.0|   4.0| 135.0| 135.0|    CHI|2016-04-07|    1.0|     CA|2016-04-10|   0.0|    2.0|  1.0|    null| null|      G|      O|   null|      M| 2016.0|07052016|     F|  null|     WS|5.5777298633E10|01698|      WT|      0.0|\n",
      "| 612252.0|2016.0|   4.0| 687.0| 687.0|    MIA|2016-04-03|    1.0|     FL|2016-04-07|   0.0|    2.0|  1.0|     BNS| null|      G|      O|   null|      M| 2016.0|10022016|     M|  null|     AR| 9.267881163E10|01306|      B2|      0.0|\n",
      "| 821057.0|2016.0|   4.0| 111.0| 111.0|    NEW|2016-04-05|    1.0|     IL|2016-04-26|   0.0|    2.0|  1.0|    null| null|      G|      O|   null|      M| 2016.0|07032016|     M|  null|     AF|5.5688563433E10|00144|      WT|      0.0|\n",
      "| 668073.0|2016.0|   4.0| 135.0| 135.0|    TAM|2016-04-04|    1.0|     FL|2016-04-18|   0.0|    2.0|  1.0|    null| null|      G|      O|   null|      M| 2016.0|07022016|     F|  null|     BA|5.5623951233E10|02167|      WT|      0.0|\n",
      "| 846494.0|2016.0|   4.0| 135.0| 135.0|    SFB|2016-04-05|    1.0|     FL|2016-04-19|   0.0|    2.0|  1.0|    null| null|      G|      O|   null|      M| 2016.0|07032016|     M|  null|    TOM|5.5661371433E10|00132|      WT|      0.0|\n",
      "| 707553.0|2016.0|   4.0| 343.0| 343.0|    ATL|2016-04-04|    1.0|     WA|2016-04-19|   0.0|    2.0|  1.0|     ABU| null|      G|      O|   null|      M| 2016.0|10032016|     F|  null|     DL| 9.273194803E10|00083|      B2|      0.0|\n",
      "| 485613.0|2016.0|   4.0| 209.0| 209.0|    AGA|2016-04-03|    1.0|     GU|2016-04-08|   0.0|    2.0|  1.0|    null| null|      G|      O|   null|      M| 2016.0|07022016|     M|  null|     UA|5.5534507533E10|00874|      WT|      0.0|\n",
      "| 621198.0|2016.0|   4.0| 691.0| 691.0|    MIA|2016-04-03|    1.0|     LA|2016-05-16|   0.0|    2.0|  1.0|     BGT| null|      G|      O|   null|      M| 2016.0|10022016|     F|  null|     FC| 9.263915393E10|00354|      B2|      0.0|\n",
      "|1003171.0|2016.0|   4.0| 131.0| 131.0|    MIA|2016-04-06|    1.0|     FL|2016-04-15|   0.0|    2.0|  1.0|    null| null|      O|      O|   null|      M| 2016.0|07042016|  null|  null|     AF|5.5729100233E10|00090|      WT|      0.0|\n",
      "|1039534.0|2016.0|   4.0| 251.0| 251.0|    NYC|2016-04-06|    1.0|     NY|2016-04-17|   0.0|    2.0|  1.0|    null| null|      O|      O|   null|      M| 2016.0|10052016|  null|  null|     LY| 9.285867263E10|00001|      B2|      0.0|\n",
      "|1168332.0|2016.0|   4.0| 123.0| 123.0|    PHI|2016-04-07|    1.0|     NY|2016-04-10|   0.0|    2.0|  1.0|    null| null|      G|      O|   null|      M| 2016.0|07052016|     F|  null|     DL|5.5749416333E10|00047|      WT|      0.0|\n",
      "|1168673.0|2016.0|   4.0| 123.0| 123.0|    MIA|2016-04-07|    1.0|     FL|2016-04-12|   0.0|    2.0|  1.0|    null| null|      G|      O|   null|      M| 2016.0|07052016|     F|  null|     AA|5.5745797333E10|00910|      WT|      0.0|\n",
      "|1040488.0|2016.0|   4.0| 251.0| 251.0|    MIA|2016-04-06|    1.0|     FL|2016-04-12|   0.0|    2.0|  1.0|     TLV| null|      G|      O|   null|      M| 2016.0|10052016|     F|  null|     BA| 9.291219123E10|00209|      B2|      0.0|\n",
      "|  38086.0|2016.0|   4.0| 135.0| 135.0|    ORL|2016-04-01|    1.0|     FL|2016-04-17|   0.0|    2.0|  1.0|    null| null|      G|      O|   null|      M| 2016.0|06292016|     F|  null|     VS|5.5449270333E10|00015|      WT|      0.0|\n",
      "|1178907.0|2016.0|   4.0| 135.0| 135.0|    DET|2016-04-07|    1.0|   null|2016-05-19|   0.0|    2.0|  1.0|    null| null|      O|      O|   null|      M| 2016.0|07052016|  null|  null|     VS|5.5753995033E10|00107|      WT|      0.0|\n",
      "|1179960.0|2016.0|   4.0| 135.0| 135.0|    NEW|2016-04-07|    1.0|     NY|2016-05-03|   0.0|    2.0|  1.0|    null| null|      G|      O|   null|      M| 2016.0|07052016|     F|  null|     UA|5.5766988933E10|00017|      WT|      0.0|\n",
      "|1183135.0|2016.0|   4.0| 135.0| 135.0|    NYC|2016-04-07|    1.0|     NY|2016-04-13|   0.0|    2.0|  1.0|    null| null|      G|      O|   null|      M| 2016.0|07052016|     F|  null|     VS|5.5786231533E10|00009|      WT|      0.0|\n",
      "|  43510.0|2016.0|   4.0| 135.0| 135.0|    X96|2016-04-01|    2.0|     VQ|2016-07-15|   0.0|    2.0|  1.0|     SAJ| null|      G|      I|   null|      M| 2016.0|09302016|     F|  null|    VES| 9.244346203E10|MANAD|      B2|      0.0|\n",
      "| 611190.0|2016.0|   4.0| 687.0| 687.0|    NYC|2016-04-03|    1.0|     NY|2016-04-19|   0.0|    2.0|  1.0|    null| null|      O|      O|   null|      M| 2016.0|10022016|  null|  null|     JJ| 9.262706763E10|08080|      B2|      0.0|\n",
      "| 467081.0|2016.0|   4.0| 135.0| 135.0|    LVG|2016-04-03|    1.0|     NV|2016-04-12|   0.0|    2.0|  1.0|    null| null|      G|      Q|   null|      M| 2016.0|07012016|     M|  null|     VS|5.5555977733E10|00043|      WT|      0.0|\n",
      "| 645444.0|2016.0|   4.0| 123.0| 123.0|    MIA|2016-04-04|    1.0|     FL|2016-04-09|   0.0|    2.0|  1.0|    null| null|      G|      Q|   null|      M| 2016.0|07022016|     F|  null|     AA|5.5590182133E10|00910|      WT|      0.0|\n",
      "| 662892.0|2016.0|   4.0| 135.0| 135.0|    LOS|2016-04-04|    1.0|     CA|2016-04-11|   0.0|    2.0|  1.0|    null| null|      G|      O|   null|      M| 2016.0|07022016|     M|  null|     BA|5.5642024233E10|00269|      WT|      0.0|\n",
      "| 825681.0|2016.0|   4.0| 117.0| 117.0|    LOS|2016-04-05|    1.0|     CA|2016-06-03|   0.0|    2.0|  1.0|    null| null|      O|      O|   null|      M| 2016.0|07032016|  null|  null|     BA|5.5692018333E10|00269|      WT|      0.0|\n",
      "| 833239.0|2016.0|   4.0| 130.0| 130.0|    LOS|2016-04-05|    1.0|     CA|2016-04-26|   0.0|    2.0|  1.0|    null| null|      G|      O|   null|      M| 2016.0|07032016|     F|  null|     SK|5.5676939133E10|00939|      WT|      0.0|\n",
      "| 676223.0|2016.0|   4.0| 148.0| 112.0|    MIA|2016-04-04|    1.0|     FL|2016-04-25|   0.0|    2.0|  1.0|    null| null|      G|      O|   null|      M| 2016.0|07022016|     F|  null|     AF|5.5630101133E10|00090|      WT|      0.0|\n",
      "| 697974.0|2016.0|   4.0| 251.0| 251.0|    NEW|2016-04-04|    1.0|     NY|2016-04-10|   0.0|    2.0|  1.0|     TLV| null|      G|      O|   null|      M| 2016.0|10032016|     M|  null|     UA| 9.269723843E10|00091|      B2|      0.0|\n",
      "| 851997.0|2016.0|   4.0| 148.0| 112.0|    NYC|2016-04-05|    1.0|     NY|2016-04-11|   0.0|    2.0|  1.0|    null| null|      G|      O|   null|      M| 2016.0|07032016|     F|  null|     AB|5.5670046833E10|07248|      WT|      0.0|\n",
      "| 855604.0|2016.0|   4.0| 148.0| 112.0|    ORL|2016-04-05|    1.0|     FL|2016-05-16|   0.0|    2.0|  1.0|    null| null|      O|      O|   null|      M| 2016.0|07032016|  null|  null|     LH|5.5680892833E10|00464|      WT|      0.0|\n",
      "| 710548.0|2016.0|   4.0| 438.0| 438.0|    LOS|2016-04-04|    1.0|     CA|2016-04-20|   0.0|    2.0|  1.0|    null| null|      G|      O|   null|      M| 2016.0|07022016|     F|  null|     AA|5.5589921933E10|00072|      WT|      0.0|\n",
      "| 460236.0|2016.0|   4.0| 135.0| 135.0|    BOS|2016-04-03|    1.0|     MA|2016-04-09|   0.0|    2.0|  1.0|    null| null|      G|      O|   null|      M| 2016.0|07012016|     F|  null|     DY|5.5577917133E10|07147|      WT|      0.0|\n",
      "| 714020.0|2016.0|   4.0| 512.0| 512.0|    NAS|2016-04-04|    1.0|     FL|2016-04-11|   0.0|    2.0|  1.0|    null| null|      G|      O|   null|      M| 2016.0|10032016|     M|  null|     UP| 9.270292273E10|00201|      B2|      0.0|\n",
      "| 799266.0|2016.0|   4.0| 687.0| 687.0|    HOU|2016-04-04|    1.0|     TX|2016-04-14|   0.0|    2.0|  1.0|     BNS| null|      G|      O|   null|      M| 2016.0|05022016|     M|  null|     UA| 9.270807993E10|00818|      B2|      0.0|\n",
      "| 806002.0|2016.0|   4.0| 690.0| 690.0|    LVG|2016-04-04|    1.0|     FL|2016-07-09|   0.0|    2.0|  1.0|     SNT| null|      G|      O|   null|      M| 2016.0|10032016|     F|  null|     LA| 9.270426383E10|00502|      B2|      0.0|\n",
      "| 969557.0|2016.0|   4.0| 687.0| 687.0|    MIA|2016-04-05|    1.0|     FL|2016-04-17|   0.0|    2.0|  1.0|     BNS| null|      G|      O|   null|      M| 2016.0|10042016|     M|  null|     JJ| 9.278159003E10|08090|      B2|      0.0|\n",
      "|1157793.0|2016.0|   4.0| 111.0| 111.0|    NEW|2016-04-07|    1.0|     NJ|2016-04-22|   0.0|    2.0|  1.0|    null| null|      G|      O|   null|      M| 2016.0|07052016|     M|  null|     BA|5.5787301233E10|00189|      WT|      0.0|\n",
      "|1167328.0|2016.0|   4.0| 117.0| 689.0|    HOU|2016-04-07|    1.0|     AZ|2016-04-11|   0.0|    2.0|  1.0|    null| null|      O|      O|   null|      M| 2016.0|07052016|  null|  null|     UA|5.5742192033E10|00128|      WT|      0.0|\n",
      "|   3825.0|2016.0|   4.0| 109.0| 109.0|    SFR|2016-04-01|    1.0|     CA|2016-04-11|   0.0|    2.0|  1.0|    null| null|      G|      O|   null|      M| 2016.0|06292016|     M|  null|     LH|5.5436993433E10|00454|      WT|      0.0|\n",
      "| 300208.0|2016.0|   4.0| 261.0| 261.0|    CHI|2016-04-02|    1.0|     FL|2016-07-07|   0.0|    3.0|  1.0|    null| null|      T|      O|   null|      M| 2016.0|     D/S|     F|  null|     QR|   6.72601585E8|  725|      F2|      0.0|\n",
      "|  89945.0|2016.0|   4.0| 438.0| 438.0|    SEA|2016-04-01|    1.0|     MI|2016-04-08|   0.0|    2.0|  1.0|    null| null|      O|      K|   null|      M| 2016.0|06292016|  null|  null|     CX|5.5429512533E10|00806|      WT|      0.0|\n",
      "| 304204.0|2016.0|   4.0| 296.0| 296.0|    MAA|2016-04-02|    1.0|     WA|2016-07-01|   0.0|    2.0|  1.0|     ABD| null|      G|      N|   null|      M| 2016.0|10012016|     M|  null|     EY| 9.251884693E10|00131|      B2|      0.0|\n",
      "|1171996.0|2016.0|   4.0| 129.0| 129.0|    NYC|2016-04-07|    1.0|     NY|2016-05-06|   0.0|    2.0|  1.0|    null| null|      G|      O|   null|      M| 2016.0|07052016|     M|  null|     DL|5.5750775833E10|00215|      WT|      0.0|\n",
      "| 364262.0|2016.0|   4.0| 582.0| 582.0|    LOS|2016-04-02|    1.0|     CA|2016-04-03|   0.0|    2.0|  1.0|     GDL| null|      G|      O|   null|      M| 2016.0|09302016|     M|  null|     Y4| 9.252093963E10|00914|      B2|      0.0|\n",
      "| 158100.0|2016.0|   4.0| 582.0| 582.0|    MIA|2016-04-01|    1.0|     FL|2016-04-03|   0.0|    2.0|  1.0|     MEX| null|      G|      R|   null|      M| 2016.0|09302016|     F|  null|    360| 9.247099043E10|07204|      B2|      0.0|\n",
      "| 369870.0|2016.0|   4.0| 582.0| 582.0|    LOS|2016-04-02|    1.0|     CA|2016-04-05|   0.0|    2.0|  1.0|     MEX| null|      G|      O|   null|      M| 2016.0|10012016|     F|  null|     UA| 9.257251303E10|00293|      B2|      0.0|\n",
      "|1048036.0|2016.0|   4.0| 272.0| 272.0|    NYC|2016-04-06|    1.0|     NY|      null|   0.0|    2.0|  1.0|    null| null|      O|   null|   null|   null| 2016.0|10052016|  null|  null|     KU| 9.290228303E10|00117|      B2|      0.0|\n",
      "| 417363.0|2016.0|   4.0| 687.0| 687.0|    SFR|2016-04-02|    1.0|     FL|2016-04-09|   0.0|    2.0|  1.0|     BNS| null|      G|      O|   null|      M| 2016.0|10012016|     M|  null|     JJ| 9.253032083E10|08056|      B2|      0.0|\n",
      "| 206733.0|2016.0|   4.0| 689.0| 689.0|    MIA|2016-04-01|    1.0|     FL|2016-04-10|   0.0|    2.0|  1.0|     BRA| null|      G|      O|   null|      M| 2016.0|09302016|     M|  null|     JJ| 9.249846203E10|08042|      B2|      0.0|\n",
      "| 424141.0|2016.0|   4.0| 690.0| 690.0|    PHO|2016-04-02|    1.0|     FL|2016-04-10|   0.0|    2.0|  1.0|    null| null|      G|      O|   null|      M| 2016.0|06302016|     F|  null|     AA|5.5467047233E10|00940|      WT|      0.0|\n",
      "|1048081.0|2016.0|   4.0| 272.0| 272.0|    NYC|2016-04-06|    1.0|     NY|      null|   0.0|    2.0|  1.0|     KWT| null|      G|   null|   null|   null| 2016.0|10052016|     M|  null|     KU| 9.290308603E10|00117|      B2|      0.0|\n",
      "| 428553.0|2016.0|   4.0| 692.0| 692.0|    FTL|2016-04-02|    1.0|     NE|2016-04-10|   0.0|    2.0|  1.0|     QTO| null|      G|      N|   null|      M| 2016.0|10012016|     M|  null|     AM| 9.260711543E10|00404|      B2|      0.0|\n",
      "| 207419.0|2016.0|   4.0| 689.0| 689.0|    LOS|2016-04-01|    1.0|     CA|2016-04-18|   0.0|    2.0|  1.0|     RDJ| null|      G|      Q|   null|      M| 2016.0|09302016|     M|  null|     UA| 9.243794913E10|00128|      B2|      0.0|\n",
      "| 434350.0|2016.0|   4.0| 104.0| 104.0|    MIA|2016-04-03|    1.0|     FL|2016-04-16|   0.0|    2.0|  1.0|    null| null|      G|      O|   null|      M| 2016.0|07012016|     F|  null|     AB|5.5544672433E10|07000|      WT|      0.0|\n",
      "| 518485.0|2016.0|   4.0| 438.0| 438.0|    LOS|2016-04-03|    1.0|     CA|2016-04-11|   0.0|    2.0|  1.0|    null| null|      G|      O|   null|      M| 2016.0|07012016|     M|  null|     UA|5.5530361433E10|00099|      WT|      0.0|\n",
      "| 438926.0|2016.0|   4.0| 111.0| 111.0|    MIA|2016-04-03|    1.0|     NY|2016-04-06|   0.0|    2.0|  1.0|    null| null|      G|      N|   null|      M| 2016.0|07012016|     F|  null|     SE|5.5581383033E10|00070|      WT|      0.0|\n",
      "| 211950.0|2016.0|   4.0| 691.0| 691.0|    FTL|2016-04-01|    1.0|     AR|2016-05-03|   0.0|    2.0|  1.0|     BGT| null|      G|      O|   null|      M| 2016.0|09302016|     M|  null|     NK| 9.250248433E10|00400|      B2|      0.0|\n",
      "| 443371.0|2016.0|   4.0| 111.0| 111.0|    TOR|2016-04-03|    1.0|     CA|2016-05-11|   0.0|    2.0|  1.0|    null| null|      G|      O|   null|      M| 2016.0|07012016|     F|  null|     AC|5.5564458733E10|00787|      WT|      0.0|\n",
      "| 809755.0|2016.0|   4.0| 694.0| 694.0|    DEN|2016-04-04|    1.0|     FL|2016-04-10|   0.0|    2.0|  1.0|     LMA| null|      G|      O|   null|      M| 2016.0|10032016|     F|  null|     LA| 9.271296203E10|02514|      B2|      0.0|\n",
      "| 220856.0|2016.0|   4.0| 104.0| 104.0|    CHI|2016-04-02|    1.0|     IN|2016-04-21|   0.0|    2.0|  1.0|    null| null|      G|      O|   null|      M| 2016.0|06302016|     M|  null|     LH|5.5484136733E10|00430|      WT|      0.0|\n",
      "|   6453.0|2016.0|   4.0| 111.0| 111.0|    NYC|2016-04-01|    1.0|     NY|2016-04-05|   0.0|    2.0|  1.0|    null| null|      G|      O|   null|      M| 2016.0|06292016|     M|  null|     AF|5.5443831833E10|00006|      WT|      0.0|\n",
      "|  46046.0|2016.0|   4.0| 148.0| 112.0|    SFR|2016-04-01|    1.0|     CA|2016-05-31|   0.0|    2.0|  1.0|    null| null|      G|      O|   null|      M| 2016.0|06292016|     F|  null|     LX|5.5452636333E10|00038|      WT|      0.0|\n",
      "| 823507.0|2016.0|   4.0| 116.0| 116.0|    BOS|2016-04-05|    1.0|     MA|2016-07-17|   0.0|    2.0|  1.0|    null| null|      G|      O|   null|      M| 2016.0|07032016|     F|  null|     BA|5.5656381033E10|00213|      WT|      0.0|\n",
      "| 225123.0|2016.0|   4.0| 111.0| 111.0|    WAS|2016-04-02|    1.0|     NC|2016-04-09|   0.0|    2.0|  1.0|    null| null|      G|      O|   null|      M| 2016.0|06302016|     M|  null|     AF|5.5520741033E10|00026|      WT|      0.0|\n",
      "|    109.0|2016.0|   4.0| 103.0| 103.0|    DET|2016-04-01|    1.0|     MI|2016-04-12|   0.0|    2.0|  1.0|    null| null|      G|      O|   null|      M| 2016.0|06292016|     M|  null|     LH|5.5425587333E10|00442|      WT|      0.0|\n",
      "|   1161.0|2016.0|   4.0| 104.0| 104.0|    WAS|2016-04-01|    1.0|     MD|2016-04-10|   0.0|    2.0|  1.0|    null| null|      G|      O|   null|      M| 2016.0|06292016|     F|  null|     KL|5.5444507333E10|00651|      WT|      0.0|\n",
      "| 846127.0|2016.0|   4.0| 135.0| 135.0|    SEA|2016-04-05|    1.0|   null|2016-04-19|   0.0|    2.0|  1.0|    null| null|      G|      O|   null|      M| 2016.0|07032016|     F|  null|     FI|5.5689363733E10|00681|      WT|      0.0|\n",
      "| 248844.0|2016.0|   4.0| 135.0| 135.0|    WAS|2016-04-02|    1.0|     CA|2016-04-16|   0.0|    2.0|  1.0|    null| null|      G|      O|   null|      M| 2016.0|06302016|     M|  null|     VS|5.5479341633E10|00107|      WT|      0.0|\n",
      "|  18535.0|2016.0|   4.0| 123.0| 123.0|    SFB|2016-04-01|    1.0|     FL|2016-04-11|   0.0|    2.0|  1.0|    null| null|      G|      Q|   null|      M| 2016.0|06292016|     M|  null|     OR|5.5454311033E10|00317|      WT|      0.0|\n",
      "|  50934.0|2016.0|   4.0| 148.0| 112.0|    ATL|2016-04-01|    1.0|     TN|2016-08-20|   0.0|    1.0|  1.0|     FRN| null|      G|      N|   null|      M| 2016.0|03312018|     M|  null|     LH| 9.247722833E10|00444|      E1|      0.0|\n",
      "| 851248.0|2016.0|   4.0| 148.0| 112.0|    NEW|2016-04-05|    1.0|     NJ|2016-04-13|   0.0|    2.0|  1.0|    null| null|      G|      O|   null|      M| 2016.0|07032016|     M|  null|     UA|5.5677400233E10|00085|      WT|      0.0|\n",
      "| 260958.0|2016.0|   4.0| 135.0| 135.0|    CHI|2016-04-02|    1.0|     KY|2016-04-15|   0.0|    2.0|  1.0|    null| null|      G|      O|   null|      M| 2016.0|06302016|     F|  null|     BA|5.5488318533E10|00295|      WT|      0.0|\n",
      "| 852861.0|2016.0|   4.0| 148.0| 112.0|    ORL|2016-04-05|    1.0|     FL|2016-05-03|   0.0|    2.0|  1.0|    null| null|      G|      O|   null|      M| 2016.0|07032016|     M|  null|     LH|5.5682064233E10|00464|      WT|      0.0|\n",
      "| 709962.0|2016.0|   4.0| 438.0| 438.0|    HOU|2016-04-04|    1.0|     TX|2016-04-15|   0.0|    2.0|  1.0|    null| null|      G|      O|   null|      M| 2016.0|07022016|     F|  null|     NZ|5.5595054233E10|00028|      WT|      0.0|\n",
      "| 872676.0|2016.0|   4.0| 251.0| 251.0|    NYC|2016-04-05|    1.0|     NY|2016-04-07|   0.0|    2.0|  1.0|    null| null|      O|      O|   null|      M| 2016.0|10042016|  null|  null|     DL| 9.277602223E10|00469|      B2|      0.0|\n",
      "| 261294.0|2016.0|   4.0| 135.0| 135.0|    PHO|2016-04-02|    1.0|     FL|2016-04-16|   0.0|    2.0|  1.0|    null| null|      G|      O|   null|      M| 2016.0|06302016|     M|  null|     AA|5.5487796033E10|00735|      WT|      0.0|\n",
      "| 712607.0|2016.0|   4.0| 438.0| 438.0|    HHW|2016-04-04|    1.0|     HI|2016-05-02|   0.0|    2.0|  1.0|    null| null|      O|      O|   null|      M| 2016.0|07022016|  null|  null|     JQ|5.5591566333E10|00003|      WT|      0.0|\n",
      "|  73259.0|2016.0|   4.0| 251.0| 251.0|    NYC|2016-04-01|    1.0|     NY|2016-04-06|   0.0|    2.0|  1.0|    null| null|      O|      O|   null|      M| 2016.0|09302016|  null|  null|     AA| 9.250278693E10|00105|      B2|      0.0|\n",
      "| 460882.0|2016.0|   4.0| 135.0| 135.0|    DAL|2016-04-03|    1.0|     TX|2016-04-06|   0.0|    2.0|  1.0|    null| null|      G|      O|   null|      M| 2016.0|07012016|     F|  null|     AA|5.5571746133E10|01321|      WT|      0.0|\n",
      "| 267032.0|2016.0|   4.0| 148.0| 112.0|    BOS|2016-04-02|    1.0|     ME|2016-05-01|   0.0|    2.0|  1.0|    null| null|      G|      O|   null|      M| 2016.0|06302016|     M|  null|     LH|5.5516258533E10|00424|      WT|      0.0|\n",
      "| 765505.0|2016.0|   4.0| 582.0| 582.0|    CHI|2016-04-04|    1.0|     OR|2016-05-13|   0.0|    2.0|  1.0|     MEX| null|      G|      O|   null|      M| 2016.0|10032016|     F|  null|     Y4| 9.273905123E10|00934|      B2|      0.0|\n",
      "| 492395.0|2016.0|   4.0| 209.0| 689.0|    WAS|2016-04-03|    1.0|   null|2016-04-04|   0.0|    2.0|  1.0|    null| null|      O|      O|   null|      M| 2016.0|07012016|  null|  null|     AA|5.5531053533E10|00950|      WT|      0.0|\n",
      "| 644654.0|2016.0|   4.0| 123.0| 123.0|    NEW|2016-04-04|    1.0|     FL|2016-04-20|   0.0|    2.0|  1.0|    null| null|      G|      N|   null|      M| 2016.0|07022016|     M|  null|     LH|5.5621359933E10|00402|      WT|      0.0|\n",
      "| 269912.0|2016.0|   4.0| 148.0| 112.0|    MIA|2016-04-02|    1.0|     FL|2016-04-21|   0.0|    2.0|  1.0|    null| null|      G|      O|   null|      M| 2016.0|06302016|     F|  null|     LH|5.5495955233E10|00462|      WT|      0.0|\n",
      "|  37162.0|2016.0|   4.0| 135.0| 135.0|    ORL|2016-04-01|    1.0|     FL|2016-04-13|   0.0|    2.0|  1.0|    null| null|      G|      O|   null|      M| 2016.0|06292016|     F|  null|     VS|5.5442218433E10|00073|      WT|      0.0|\n",
      "|  89488.0|2016.0|   4.0| 438.0| 438.0|    LVG|2016-04-01|    1.0|     NV|2016-04-16|   0.0|    2.0|  1.0|    null| null|      G|      O|   null|      M| 2016.0|06292016|     F|  null|     QF|5.5410203933E10|00093|      WT|      0.0|\n",
      "| 969912.0|2016.0|   4.0| 687.0| 687.0|    MIA|2016-04-05|    1.0|     FL|2016-05-03|   0.0|    2.0|  1.0|     BNS| null|      G|      O|   null|      M| 2016.0|10042016|     M|  null|     4M| 9.278887583E10|04520|      B2|      0.0|\n",
      "+---------+------+------+------+------+-------+----------+-------+-------+----------+------+-------+-----+--------+-----+-------+-------+-------+-------+-------+--------+------+------+-------+---------------+-----+--------+---------+\n",
      "only showing top 100 rows\n",
      "\n"
     ]
    }
   ],
   "source": [
    "from pyspark.sql.functions import to_date,desc,asc\n",
    "\n",
    "#age.filter(age.rough_age.isNotNull()).orderBy(asc(\"rough_age\")).show(3000)\n",
    "age.filter(age.rough_age.isNotNull()).orderBy(desc(\"biryear\")).show(100)"
   ]
  },
  {
   "cell_type": "markdown",
   "metadata": {
    "editable": true
   },
   "source": [
    "### Step 3: Define the Data Model\n",
    "#### 3.1 Conceptual Data Model\n",
    "Map out the conceptual data model and explain why you chose that model\n",
    "\n",
    "#### 3.2 Mapping Out Data Pipelines\n",
    "List the steps necessary to pipeline the data into the chosen data model"
   ]
  },
  {
   "cell_type": "markdown",
   "metadata": {
    "editable": true
   },
   "source": [
    "### Step 4: Run Pipelines to Model the Data \n",
    "#### 4.1 Create the data model\n",
    "Build the data pipelines to create the data model."
   ]
  },
  {
   "cell_type": "code",
   "execution_count": 13,
   "metadata": {
    "editable": true
   },
   "outputs": [
    {
     "name": "stdout",
     "output_type": "stream",
     "text": [
      "+-------------+------------------+------------------+------------------+------------------+\n",
      "|      Country|     avg(frst_gen)|     avg(scnd_gen)|    avg(third_gen)|   avg(fourth_gen)|\n",
      "+-------------+------------------+------------------+------------------+------------------+\n",
      "|         Chad| 27.64079166666667|27.176663888888886| 27.25101666666666| 26.76893611111112|\n",
      "|     Anguilla|27.280758333333335|26.827502777777777|26.597055555555553| 26.32713055555556|\n",
      "| Kingman Reef|27.690716666666667| 27.18835555555555|          27.08275|26.688200000000002|\n",
      "|     Paraguay|23.838030555555555|23.465005555555557|23.344572222222226|23.083288888888887|\n",
      "|       Russia| -4.45961388888889|-5.434174999999999|-5.303036111111112| -5.83281111111111|\n",
      "|Palmyra Atoll|27.721394444444435|27.218327777777784|27.113436111111113|26.718544444444447|\n",
      "|        Yemen|26.772916666666667|26.275844444444445|26.134586111111116|25.906255555555553|\n",
      "|      Senegal|28.617455555555555|28.034163888888887|27.976936111111115|27.747711111111098|\n",
      "|       Sweden|3.2321222222222215|2.5016861111111117| 2.786991666666667| 2.259627777777778|\n",
      "|     Kiribati|27.296055555555544|26.800836111111114| 26.69326388888889|26.286063888888883|\n",
      "|       Guyana|26.587141666666664| 26.20086111111111| 25.93537222222222| 25.60542222222222|\n",
      "|        Burma|24.198077777777772|24.015002777777777|23.843155555555555|23.580238888888893|\n",
      "|      Eritrea|27.256138888888884|26.820855555555553| 26.77048055555555|26.438505555555547|\n",
      "|       Jersey|11.670330555555555|11.034191666666665| 11.10099722222222|10.799602777777775|\n",
      "|  Philippines|27.000013888888887|26.740811111111114|26.395891666666667|26.093883333333327|\n",
      "|     Djibouti|29.319236111111103| 28.78498333333334| 28.70031944444445| 28.50817222222222|\n",
      "|        Tonga|23.714147222222227| 23.39667222222222|23.242022222222218|         22.798175|\n",
      "|     Malaysia|26.409122222222223|26.096674999999998|  25.8719611111111|25.504944444444444|\n",
      "|    Singapore| 27.13931388888889| 26.79001944444444|26.600383333333337|26.253880555555547|\n",
      "|         Fiji|25.521252777777786| 25.19916666666667| 25.02089166666667|24.623347222222222|\n",
      "+-------------+------------------+------------------+------------------+------------------+\n",
      "only showing top 20 rows\n",
      "\n",
      "$$$$$$$$$$$$$$$$$$$$$$$$$$$$$\n",
      "+-------------+-------------------+--------------------+-------------------+\n",
      "| country_name|       DiffGen1Gen2|        DiffGen2Gen3|       DiffGen3Gen4|\n",
      "+-------------+-------------------+--------------------+-------------------+\n",
      "|         chad|  0.464127777777783|-0.07435277777777571|0.48208055555554097|\n",
      "|     anguilla| 0.4532555555555575| 0.23044722222222447|0.26992499999999353|\n",
      "| kingman reef| 0.5023611111111173| 0.10560555555554885|0.39454999999999885|\n",
      "|     paraguay| 0.3730249999999984| 0.12043333333333095| 0.2612833333333384|\n",
      "|       russia| 0.9745611111111092|-0.13113888888888692| 0.5297749999999981|\n",
      "|palmyra atoll| 0.5030666666666512|  0.1048916666666706| 0.3948916666666662|\n",
      "|        yemen|0.49707222222222214|  0.1412583333333295|0.22833055555556214|\n",
      "|      senegal| 0.5832916666666677|0.057227777777772104|0.22922500000001733|\n",
      "|       sweden| 0.7304361111111097| -0.2853055555555555| 0.5273638888888894|\n",
      "|     kiribati| 0.4952194444444302| 0.10757222222222396|0.40720000000000667|\n",
      "|       guyana| 0.3862805555555546|  0.2654888888888891| 0.3299500000000002|\n",
      "|        burma| 0.1830749999999952| 0.17184722222222248|  0.262916666666662|\n",
      "|      eritrea| 0.4352833333333308|  0.0503750000000025|0.33197500000000346|\n",
      "|       jersey| 0.6361388888888904|-0.06680555555555578|0.30139444444444585|\n",
      "|  philippines|  0.259202777777773| 0.34491944444444655| 0.3020083333333403|\n",
      "|     djibouti| 0.5342527777777626| 0.08466388888889043|0.19214722222222846|\n",
      "|        tonga| 0.3174750000000053| 0.15465000000000373| 0.4438472222222174|\n",
      "|     malaysia| 0.3124472222222252|  0.2247138888888962|0.36701666666665744|\n",
      "|    singapore| 0.3492944444444497| 0.18963611111110268| 0.3465027777777898|\n",
      "|         fiji| 0.3220861111111155|  0.1782749999999993|0.39754444444444914|\n",
      "+-------------+-------------------+--------------------+-------------------+\n",
      "only showing top 20 rows\n",
      "\n"
     ]
    }
   ],
   "source": [
    "frst_gen = {\"frst_gen\": list(range(2010,1980,-1))}\n",
    "scnd_gen = {\"scnd_gen\": list(range(1980,1950,-1))}\n",
    "thrd_gen = {\"third_gen\": list(range(1950,1920,-1))}\n",
    "frth_gen = {\"fourth_gen\": list(range(1920,1890,-1))}\n",
    "#fith_gen = {\"fifth_gen\": list(range(1890,1860,-1))}\n",
    "#sxth_gen = {\"sixth_gen\": list(range(1860,1830,-1))}\n",
    "avg_generation_lst = []\n",
    "\n",
    "generations = [frst_gen,scnd_gen,thrd_gen,frth_gen]#,fith_gen,sxth_gen]\n",
    "\n",
    "countryGenSchema = StructType([\n",
    "            StructField(\"Country\", StringType(), True)\n",
    "])\n",
    "\n",
    "avgCountryGens = spark.createDataFrame([], countryGenSchema)\n",
    "\n",
    "for g in generations:\n",
    "    row_by_generation = countryTemps.filter(col('years').isin(list(g.values())[0])).groupBy(\"Country\",\"years\").agg(f.avg('AverageTemperature').alias(list(g.keys())[0]))\n",
    "    avg_generation = row_by_generation.groupBy(\"Country\").agg(f.avg(list(g.keys())[0]))\n",
    "    avg_generation_lst.append(avg_generation.join(avgCountryGens, on=['Country'], how='left'))\n",
    "    \n",
    "frst = avg_generation_lst[0]\n",
    "scnd = avg_generation_lst[1]\n",
    "thrd = avg_generation_lst[2]\n",
    "fourth = avg_generation_lst[3]\n",
    "#fifth = avg_generation_lst[4]\n",
    "#sixth = avg_generation_lst[5]\n",
    "\n",
    "three_cols = frst.join(scnd, on=['Country'], how='left')\n",
    "four_cols = three_cols.join(thrd, on=['Country'], how='left')\n",
    "five_cols = four_cols.join(fourth, on=['Country'], how='left')\n",
    "#six_cols = five_cols.join(fifth, on=['Country'], how='left')\n",
    "#seven_cols = six_cols.join(sixth, on=['Country'], how='left')\n",
    "five_cols.show()\n",
    "\n",
    "sub = five_cols.withColumn('DiffGen1Gen2', five_cols['avg(frst_gen)'] - five_cols['avg(scnd_gen)']) \\\n",
    "                .withColumn('DiffGen2Gen3', five_cols['avg(scnd_gen)'] - five_cols['avg(third_gen)']) \\\n",
    "                .withColumn('DiffGen3Gen4', five_cols['avg(third_gen)'] - five_cols['avg(fourth_gen)'])\n",
    "#                .withColumn('DiffGen4Gen5', seven_cols['avg(fourth_gen)'] - seven_cols['avg(fifth_gen)']) \\\n",
    "#                .withColumn('DiffGen5Gen6', seven_cols['avg(fifth_gen)'] - seven_cols['avg(sixth_gen)'])\n",
    "changes_in_temp_by_gen = sub.select(col(\"Country\").alias(\"country_name\"),\"DiffGen1Gen2\",\"DiffGen2Gen3\",\"DiffGen3Gen4\")\n",
    "changes_in_temp_by_gen = changes_in_temp_by_gen.withColumn(\"country_name\",f.lower(f.col(\"country_name\")))\n",
    "#data = data.select(col(\"Name\").alias(\"name\")\n",
    "#.alias(\"name\")\n",
    "#changes_in_temp_by_gen = sub.select(\"Country\",\"DiffGen1Gen2\",\"DiffGen2Gen3\",\"DiffGen3Gen4\")#,\"DiffGen4Gen5\",\"DiffGen5Gen6\")\n",
    "print('$$$$$$$$$$$$$$$$$$$$$$$$$$$$$')\n",
    "changes_in_temp_by_gen.show()"
   ]
  },
  {
   "cell_type": "code",
   "execution_count": null,
   "metadata": {
    "editable": true
   },
   "outputs": [],
   "source": [
    "#btw = df_complete.filter(df_complete.rough_age.isNotNull()).where((df_complete.biryear >= 1980)).groupby(df_complete.country_name).count().orderBy(desc(\"count\"))\n",
    "btw = df_complete.filter(df_complete.rough_age.isNotNull()).where((df_complete.biryear >= 1980)).groupby(df_complete.country_name).count().orderBy(desc(\"count\"))\n",
    "\n",
    "frst_gen = {\"frst_gen\": list(range(2010,1980,-1))}\n",
    "scnd_gen = {\"scnd_gen\": list(range(1980,1950,-1))}\n",
    "thrd_gen = {\"third_gen\": list(range(1950,1920,-1))}\n",
    "frth_gen = {\"fourth_gen\": list(range(1920,1890,-1))}\n",
    "#fith_gen = {\"fifth_gen\": list(range(1890,1860,-1))}\n",
    "#sxth_gen = {\"sixth_gen\": list(range(1860,1830,-1))}\n",
    "avg_generation_lst = []\n",
    "\n",
    "generations = [frst_gen,scnd_gen,thrd_gen,frth_gen]#,fith_gen,sxth_gen]\n",
    "\n",
    "countryGenSchema = StructType([\n",
    "            StructField(\"country_name\", StringType(), True)\n",
    "])\n",
    "\n",
    "avgCountryGens = spark.createDataFrame([], countryGenSchema)\n",
    "\n",
    "c_name = df_complete.select('country_name').distinct()\n",
    "\n",
    "avgCountryGens = c_name.join(avgCountryGens, on=['country_name'], how='left')\n",
    "#avgCountryGens.join(c_name, on=['country_name'], how='left')\n",
    "avgCountryGens.show(10)\n",
    "print('$$$$$$$$$$$$$$$$$$$$$')\n",
    "#avgCountryGens['country_name'] = df_spark['country_name']\n",
    "\n",
    "for g in generations:\n",
    "    print(f'{g}')\n",
    "    #row_by_generation = countryTemps.filter(col('years').isin(list(g.values())[0])).groupBy(\"Country\",\"years\").agg(f.avg('AverageTemperature').alias(list(g.keys())[0]))\n",
    "    print(\"df_complete.head(1) == \")\n",
    "    print(df_complete.head(1))\n",
    "    print(\"btw end \")\n",
    "    print(\"btw.printSchema() is \")\n",
    "    btw.printSchema()\n",
    "    print(\"df_spark.printSchema() is \")\n",
    "    df_complete.printSchema()\n",
    "    \n",
    "    #btw = df_complete.filter(df_complete.rough_age.isNotNull()).filter(col('biryear').isin(list(g.values())[0])).groupby(df_complete.country_name).agg(f.count('biryear').alias(list(g.keys())[0])).orderBy(desc(list(g.keys())[0]))\n",
    "    #btw = df_complete.filter(df_complete.rough_age.isNotNull()).filter(col('biryear').isin(list(g.values())[0])).groupby(df_complete.country_name).agg(f.count('biryear'))\n",
    "    \n",
    "    btw_temp = df_complete.filter(df_complete.rough_age.isNotNull()).filter(col('biryear').isin(list(g.values())[0]))\n",
    "    btw = btw_temp.groupby(btw_temp.country_name).agg(f.count('biryear'))\n",
    "    \n",
    "    \n",
    "    print(\"btw show \")\n",
    "    btw.show(10)\n",
    "    print(\"btw end \")\n",
    "    #avg_generation_lst.append(avg_generation.join(avgCountryGens, on=['Country'], how='left'))\n",
    "    #avg_generation_lst.append(btw.join(avgCountryGens, on=['country_name'], how='inner'))\n",
    "    avgCountryGens = btw.join(avgCountryGens, on=['country_name'], how='left')\n",
    "    print(\"YYYYYYYYYYYYYYYYy\")\n",
    "    avgCountryGens.orderBy(asc(\"country_name\")).show()\n",
    "\n",
    "avgCountryGens = avgCountryGens.withColumn(\"country_name\",f.lower(f.col(\"country_name\")))\n",
    "#dffin = countryNames.join(btw, on=['i94res'], how='left')\n",
    "#between = age.filter(age.rough_age.isNotNull()).where((age.rough_age > 40) & (age.rough_age < 60)).orderBy(asc(\"biryear\"))\n",
    "#dffin.head(500)\n",
    "print(\"THIS IS IT!!!!!\")\n",
    "avgCountryGens.show()"
   ]
  },
  {
   "cell_type": "code",
   "execution_count": null,
   "metadata": {
    "editable": true
   },
   "outputs": [
    {
     "name": "stdout",
     "output_type": "stream",
     "text": [
      "YYYYYYYYYYYYYYYYy\n",
      "+--------------------+-------------------+--------------------+---------+--------+--------+\n",
      "|        country_name|       DiffGen1Gen2|        DiffGen2Gen3|third_gen|scnd_gen|frst_gen|\n",
      "+--------------------+-------------------+--------------------+---------+--------+--------+\n",
      "|            zimbabwe| 0.5750777777777749| 0.07419444444444778|       44|     252|     160|\n",
      "|              zambia| 0.5812305555555604| 0.08122499999999988|       17|     205|      69|\n",
      "|               yemen|0.49707222222222214|  0.1412583333333295|        4|      84|     113|\n",
      "|             vietnam|0.19875000000000398| 0.15246388888888873|      920|    4762|    1653|\n",
      "|           venezuela|0.33727777777777845|  0.2876916666666709|     4844|   21368|   13392|\n",
      "|          uzbekistan|  0.865422222222227|  0.3671666666666642|       92|     428|     154|\n",
      "|             uruguay|  0.487394444444444| 0.14553611111111664|      691|    3052|    1704|\n",
      "|      united kingdom| 0.5175972222222214| -0.0658499999999993|    41712|  195470|  123217|\n",
      "|united arab emirates| 0.6004777777777726| 0.20852777777778542|      157|    4393|    3609|\n",
      "|             ukraine|  0.641747222222226|  0.2630222222222178|      384|    3683|    3239|\n",
      "|              uganda|0.47008333333333496|0.049044444444444224|       25|     364|     160|\n",
      "|        turkmenistan| 0.9346222222222202| 0.32141388888888756|        2|      18|      24|\n",
      "|              turkey|  0.285991666666666|  0.1739027777777764|     1251|    9356|    5911|\n",
      "|             tunisia| 0.8106694444444464|-0.13314166666667404|       77|     415|     317|\n",
      "| trinidad and tobago| 0.3804694444444401| 0.28400555555555584|     1092|    6244|    3041|\n",
      "|               tonga| 0.3174750000000053| 0.15465000000000373|       39|     151|      67|\n",
      "|                togo|0.48204444444444405|-0.17793611111111574|       15|     111|      35|\n",
      "|            thailand| 0.1853027777777818| 0.19718888888888486|     1003|    7895|    5470|\n",
      "|            tanzania|  0.522716666666664| 0.08551666666667401|       34|     267|     123|\n",
      "|          tajikistan| 0.7538666666666671|  0.2890361111111095|        3|      58|      37|\n",
      "|              taiwan|0.29597500000000565|  0.3300527777777873|     2144|   16515|   10839|\n",
      "|               syria|0.34353611111110993| 0.18966944444444422|       49|     256|     211|\n",
      "|         switzerland| 0.7484638888888906|-0.05054444444444428|     3524|   24886|   18598|\n",
      "|              sweden| 0.7304361111111097| -0.2853055555555555|     4541|   24128|   15607|\n",
      "|           swaziland| 0.5104972222222202| 0.11397499999999638|       16|      67|      50|\n",
      "|            suriname|0.38823055555555896|  0.2639944444444424|       48|     447|     283|\n",
      "|               sudan|  0.444769444444443|0.031794444444436465|       47|     170|     122|\n",
      "|           sri lanka| 0.3788749999999972| 0.14368333333333538|      258|    1051|     598|\n",
      "|               spain| 0.7603111111111112| -0.1386138888888837|     4040|   28326|   16183|\n",
      "|         south korea| 0.5285499999999956|  0.3003027777777767|     8208|   63949|   55553|\n",
      "|        south africa| 0.5041000000000047|0.055450000000003996|      748|    5111|    3053|\n",
      "|     solomon islands|0.45005277777777764| 0.18585277777777165|        3|       7|       5|\n",
      "|            slovenia| 0.7386083333333335|-0.05477222222221...|      108|    1194|    1011|\n",
      "|            slovakia| 0.6099666666666668| 0.08909166666666835|      147|    1735|    1605|\n",
      "|           singapore| 0.3492944444444497| 0.18963611111110268|      439|    6995|    3896|\n",
      "|        sierra leone| 0.5007805555555542| 0.10523888888888422|       11|      93|      32|\n",
      "|          seychelles|0.43804999999999694| 0.16116666666666646|        2|      18|      12|\n",
      "|             senegal| 0.5832916666666677|0.057227777777772104|       70|     408|     144|\n",
      "|        saudi arabia| 0.4392972222222191| 0.20024166666667753|      294|    4463|    5746|\n",
      "|              rwanda| 0.5185527777777814|0.017822222222225292|        6|     117|      73|\n",
      "|              russia| 0.9745611111111092|-0.13113888888888692|     1222|   11281|    9394|\n",
      "|             romania|  0.469358333333334| 0.17620833333333508|      590|    2628|    2128|\n",
      "|             reunion|0.48553611111110584| 0.15670833333333434|       24|      72|     215|\n",
      "|               qatar| 0.6147472222222135|  0.2189249999999987|       31|    1115|    1202|\n",
      "|            portugal| 0.6870333333333356|-0.09388611111110912|      760|    5263|    2861|\n",
      "|              poland| 0.7922638888888907| 0.02643333333333242|     1391|    8803|    5718|\n",
      "|         philippines|  0.259202777777773| 0.34491944444444655|     2493|   13659|    9758|\n",
      "|                peru| 0.3603999999999985|  0.1753750000000096|     3034|   11384|    5998|\n",
      "|            paraguay| 0.3730249999999984| 0.12043333333333095|      176|    1110|     964|\n",
      "|    papua new guinea| 0.3901416666666613| 0.13600555555556681|        1|      37|      14|\n",
      "|              panama| 0.4498305555555575| 0.14490277777778715|      951|    6332|    3804|\n",
      "|            pakistan| 0.6471694444444474|   0.148486111111108|      807|    2984|    2015|\n",
      "|                oman| 0.5619611111111027|  0.2045444444444442|        9|     226|     184|\n",
      "|              norway| 0.6567083333333333| -0.3050277777777777|     1827|   10984|    7085|\n",
      "|             nigeria| 0.4527666666666583|-0.17952777777777484|      932|    8220|    4076|\n",
      "|               niger| 0.5284805555555572|-0.11120555555555711|        5|      42|      26|\n",
      "|           nicaragua| 0.4342277777777781| 0.11822777777777915|      539|    2737|    1597|\n",
      "|         new zealand| 0.2597055555555592| 0.30232222222222305|     2339|   12163|    8862|\n",
      "|       new caledonia|0.47163055555554934| 0.14203611111111414|        5|      34|      20|\n",
      "|         netherlands| 0.7123888888888867|-0.03578333333333461|     5118|   41003|   27136|\n",
      "|               nepal| 0.3110527777777783|  0.2153527777777775|      267|    1224|     519|\n",
      "|             namibia| 0.6034277777777639|-0.01124166666665...|        9|      92|      60|\n",
      "|          mozambique| 0.5258305555555616|  0.1529138888888859|        4|      73|      70|\n",
      "|             morocco| 0.7607944444444428|-0.05388055555555127|      408|    1374|     848|\n",
      "|          montserrat| 0.4433138888888912|  0.2503000000000064|        2|      13|       4|\n",
      "|            mongolia| 0.9928388888888886|  0.2654555555555558|       49|     380|     336|\n",
      "|              monaco| 0.7443388888888922|-0.10946944444444462|       47|     283|     171|\n",
      "|             moldova| 0.5504388888888858| 0.23620000000000374|       48|     410|     181|\n",
      "|           mauritius| 0.4794138888888817| 0.16206944444444815|       21|     100|     102|\n",
      "|          mauritania| 0.7145888888888869|0.020797222222221023|        2|      50|      46|\n",
      "|          martinique| 0.4253333333333309|  0.2609666666666648|       61|     410|     318|\n",
      "|               malta| 0.7021027777777853|  -0.232138888888894|       29|     177|     125|\n",
      "|                mali| 0.5676361111111135|-0.00645277777778...|       22|     120|      64|\n",
      "|            malaysia| 0.3124472222222252|  0.2247138888888962|      407|    3692|    1793|\n",
      "|              malawi| 0.5385500000000043| 0.13101111111111052|       13|      91|      43|\n",
      "|          madagascar| 0.5060611111111086|  0.1576361111111204|        7|      49|      26|\n",
      "|           macedonia|0.40921944444444414|-0.01005000000000...|       58|     353|     171|\n",
      "|               macau|0.15518611111110658| 0.14921388888890164|       18|     124|     112|\n",
      "|          luxembourg| 0.7064499999999985|-0.04452499999999...|      119|     742|     541|\n",
      "|           lithuania| 0.8666138888888888|0.001708333333332...|      163|    1066|    1051|\n",
      "|       liechtenstein| 0.7488638888888897|-0.00912222222222...|        6|     110|      50|\n",
      "|               libya|  0.584941666666662|-0.03106666666666...|        3|      47|      22|\n",
      "|             liberia|0.49424166666666736| 0.08015277777776575|       17|     201|      52|\n",
      "|             lesotho|0.49228333333333474| 0.08691944444444744|        1|       9|       5|\n",
      "|             lebanon|0.33948888888888007| 0.11735277777778208|      319|    1587|    1027|\n",
      "|              latvia| 0.8822972222222232|-0.07256388888888843|       64|     692|     703|\n",
      "|                laos|0.16726666666666645| 0.15397777777777577|       19|      63|      31|\n",
      "|          kyrgyzstan|  0.758983333333334|  0.3165499999999999|       11|      98|      76|\n",
      "|              kuwait| 0.5931166666666599| 0.26195000000000235|      119|    1474|    1854|\n",
      "|               kenya|0.43510000000000204| 0.10396666666666121|      130|    1106|     531|\n",
      "|          kazakhstan| 0.9395722222222229|  0.3665750000000001|       45|     557|     694|\n",
      "|              jordan|0.32627222222223295| 0.18003611111110374|      249|    1415|     903|\n",
      "|               japan| 0.3630083333333385| 0.36150555555555464|    23296|  128344|   88875|\n",
      "|             jamaica|0.42626666666666324|  0.1107833333333339|     1338|   10716|    6916|\n",
      "|               italy| 0.6680555555555561|-0.10049722222222357|     5152|   38401|   21404|\n",
      "|              israel|0.31317499999999754|  0.1519750000000073|     5096|   20898|   15915|\n",
      "|             ireland|0.45893888888888945|-0.12755833333333122|     2966|   16322|   10212|\n",
      "|                iraq|0.49256388888888125|   0.278738888888892|       93|     462|     388|\n",
      "|                iran| 0.7986999999999966| 0.20706944444444275|      194|     667|     441|\n",
      "|           indonesia|0.30948055555555243| 0.24431666666666985|      491|    3440|    1872|\n",
      "|               india| 0.3103583333333333| 0.21723055555555604|    16556|   58431|   30819|\n",
      "|             iceland| 0.3625277777777778| -0.4242222222222225|      405|    2213|    1213|\n",
      "|             hungary| 0.5792888888888896| 0.06204166666666566|      487|    3192|    2092|\n",
      "|           hong kong| 0.1615722222222189| 0.17015277777777627|      590|    5125|    2702|\n",
      "|            honduras|0.40162777777777237|  0.1116416666666673|     2016|    7127|    4518|\n",
      "|               haiti|0.44397222222222155| 0.14967777777777513|     1345|    6767|    2586|\n",
      "|              guyana| 0.3862805555555546|  0.2654888888888891|      231|    2573|    1548|\n",
      "|              guinea|0.49810555555555425| 0.09575833333333961|       13|      84|      65|\n",
      "|           guatemala|0.32469999999999644| 0.10055555555556239|     2395|    9474|    5076|\n",
      "|          guadeloupe| 0.4397638888888835|  0.2524000000000086|       54|     433|     309|\n",
      "|             grenada| 0.3902361111111148|  0.2869388888888835|       59|     364|     183|\n",
      "|              greece| 0.3319305555555552|-0.04098888888888652|      716|    3841|    2613|\n",
      "|               ghana| 0.4815222222222246| -0.1179916666666685|      122|     973|     407|\n",
      "|             germany|  0.731744444444443|0.005230555555556293|    13927|   89095|   51161|\n",
      "|             georgia| 0.4683500000000027|  0.4037444444444436|       29|     306|     278|\n",
      "|              gambia| 0.6000388888888857| 0.03728055555556509|       25|      78|      27|\n",
      "|               gabon|0.35755555555555674|-0.08311944444444208|       10|      90|      73|\n",
      "|    french polynesia|0.44511944444445106| 0.10668611111110948|       15|      83|      45|\n",
      "|       french guiana|  0.421941666666676|   0.248186111111103|        5|      77|      60|\n",
      "|              france|  0.691719444444443|-0.04480555555555732|    12045|   91607|   78893|\n",
      "|             finland| 0.7031499999999997|-0.34015555555555554|      620|    6530|    4209|\n",
      "|                fiji| 0.3220861111111155|  0.1782749999999993|       54|     366|     208|\n",
      "|            ethiopia|0.46954444444444476| 0.07815000000000083|      148|     774|     343|\n",
      "|             estonia| 0.8571083333333362|-0.15363055555555416|       74|    1001|     863|\n",
      "|             eritrea| 0.4352833333333308|  0.0503750000000025|       53|      88|      50|\n",
      "|   equatorial guinea| 0.3407833333333379|-0.09225555555555687|        5|      30|      40|\n",
      "|         el salvador|0.39436388888888274| 0.11278611111111303|     4256|    6472|    3100|\n",
      "|               egypt| 0.3392555555555532|  0.1334777777777738|      623|    3100|    2391|\n",
      "|             ecuador|   0.43814722222222| 0.18341944444443925|     3517|   19201|   18290|\n",
      "|  dominican republic|0.45496666666665675|   0.182094444444445|     2418|   13075|    8853|\n",
      "|            dominica| 0.4253333333333309| 0.26096666666666835|       41|     277|     149|\n",
      "|            djibouti| 0.5342527777777626| 0.08466388888889043|        1|      16|      21|\n",
      "|             denmark|0.45567222222221915| -0.6363444444444433|     2355|   13591|    8226|\n",
      "|      czech republic| 0.7126277777777785| 0.05116388888889034|      522|    4202|    3243|\n",
      "|              cyprus| 0.3117527777777731| 0.08367777777777974|       92|     457|     354|\n",
      "|                cuba| 0.4275777777777776|0.053405555555556816|     2073|    2721|     514|\n",
      "|             croatia| 0.6435388888888927| -0.0450055555555533|      136|     905|     609|\n",
      "|          costa rica|0.45532500000000553|  0.1287166666666657|     1219|    9478|    6815|\n",
      "|               congo| 0.3775111111111187|-0.08536111111110856|        3|      80|      40|\n",
      "|            colombia| 0.3691027777777727| 0.22570000000000334|     6196|   28828|   18262|\n",
      "|    christmas island|0.40552500000001146| 0.21587777777777717|        1|       1|    null|\n",
      "|               china| 0.5602055555555578| 0.05195555555555398|    16330|   97751|   69148|\n",
      "|               chile|0.34539999999999793| 0.17675000000000196|     2064|   12393|    8975|\n",
      "|                chad|  0.464127777777783|-0.07435277777777571|        3|      21|      16|\n",
      "|central african r...|0.41068888888889177|-0.08788055555555374|        2|      15|      19|\n",
      "|      cayman islands| 0.4334055555555558| 0.04934166666667039|      164|    1397|     715|\n",
      "|          cape verde| 0.5679138888888922| 0.05674444444445115|       53|     293|     132|\n",
      "|            cameroon| 0.3656444444444418| -0.1285722222222283|       70|     415|     227|\n",
      "|             burundi| 0.5319555555555517|0.025311111111108175|        6|      46|      34|\n",
      "|               burma| 0.1830749999999952| 0.17184722222222248|       88|     488|     266|\n",
      "|        burkina faso| 0.4760944444444384|-0.09432777777777446|       11|     175|     186|\n",
      "|            bulgaria| 0.4130638888888889| 0.08737500000000153|      304|    1314|     707|\n",
      "|british virgin is...|0.45677777777776996| 0.24190555555555804|      160|    1403|     883|\n",
      "|              brazil|  0.473880555555553| 0.15766111111111059|     9686|   70420|   50099|\n",
      "|            botswana| 0.5583111111111094| 0.06562222222222402|        8|      98|      59|\n",
      "|             bolivia| 0.3335166666666751|  0.1288111111110979|      503|    2967|    2052|\n",
      "|               benin| 0.4841611111111064|   -0.19563611111111|       16|      90|      57|\n",
      "|              belize|0.34539999999999793| 0.08073055555555086|      133|    1049|     545|\n",
      "|             belgium| 0.6976555555555599|-0.04986388888888982|     1338|   12057|    7125|\n",
      "|             belarus| 0.8683250000000022| 0.09850555555555207|       77|     621|     616|\n",
      "|            barbados|0.40675833333332534|  0.2726888888888972|      384|    2358|    1006|\n",
      "|          bangladesh| 0.1715750000000007| 0.24089444444444297|      189|    1193|     773|\n",
      "|             bahrain| 0.6111444444444594| 0.23981944444444991|       19|     263|     335|\n",
      "|             bahamas| 0.4397333333333222|0.023308333333339704|     1258|    8507|    4821|\n",
      "|          azerbaijan| 0.6122527777777798| 0.37809444444444296|       23|     174|     246|\n",
      "|             austria| 0.7376055555555556|  0.0119388888888885|     1169|    8439|    5690|\n",
      "|           australia| 0.4758527777777779| 0.23840833333332867|    12557|   54686|   42556|\n",
      "|               aruba| 0.3209722222222311| 0.27983611111109497|       91|     579|     375|\n",
      "|             armenia| 0.5642666666666667| 0.34441944444444417|       40|     287|     198|\n",
      "|            anguilla| 0.4532555555555575| 0.23044722222222447|        7|      48|      45|\n",
      "|              angola| 0.5348000000000006|0.033877777777782114|        7|     274|     174|\n",
      "|             andorra| 0.8063111111111088|  -0.157997222222221|       14|      66|      36|\n",
      "|             algeria| 0.7573472222222186|-0.04411666666667...|       94|     460|     329|\n",
      "|             albania| 0.4171638888888918|-0.04461944444444...|      125|     492|     297|\n",
      "|         afghanistan| 0.8682944444444409| 0.13220555555555613|       23|     107|      89|\n",
      "+--------------------+-------------------+--------------------+---------+--------+--------+\n",
      "\n",
      "+--------------------+\n",
      "|        country_name|\n",
      "+--------------------+\n",
      "|               åland|\n",
      "|            zimbabwe|\n",
      "|              zambia|\n",
      "|               yemen|\n",
      "|      western sahara|\n",
      "|      virgin islands|\n",
      "|             vietnam|\n",
      "|           venezuela|\n",
      "|          uzbekistan|\n",
      "|             uruguay|\n",
      "|       united states|\n",
      "|united kingdom (e...|\n",
      "|      united kingdom|\n",
      "|united arab emirates|\n",
      "|             ukraine|\n",
      "|              uganda|\n",
      "|turks and caicas ...|\n",
      "|        turkmenistan|\n",
      "|              turkey|\n",
      "|             tunisia|\n",
      "+--------------------+\n",
      "only showing top 20 rows\n",
      "\n",
      "YACK\n"
     ]
    }
   ],
   "source": [
    "final = changes_in_temp_by_gen.join(avgCountryGens, on=['country_name'], how='inner')\n",
    "print(\"YYYYYYYYYYYYYYYYy\")\n",
    "final.orderBy(desc(\"country_name\")).distinct().show(500)\n",
    "#changes_in_temp_by_gen.filter(col('country_name') == \"Japan\").show()\n",
    "changes_in_temp_by_gen.select('country_name').orderBy(desc(\"country_name\")).distinct().show()\n",
    "print(\"YACK\")\n",
    "#avgCountryGens.filter(col('country_name') == \"Japan\").show()\n",
    "avgCountryGens.select('country_name').orderBy(desc(\"country_name\")).distinct().show()()\n",
    "#changes_in_temp_by_gen.show()\n",
    "#print(\"CCCCCCCCCCCCCCCCCCCC\")\n",
    "#avgCountryGens.show()\n",
    "    "
   ]
  },
  {
   "cell_type": "markdown",
   "metadata": {
    "editable": true
   },
   "source": [
    "#### 4.2 Data Quality Checks\n",
    "Explain the data quality checks you'll perform to ensure the pipeline ran as expected. These could include:\n",
    " * Integrity constraints on the relational database (e.g., unique key, data type, etc.)\n",
    " * Unit tests for the scripts to ensure they are doing the right thing\n",
    " * Source/Count checks to ensure completeness\n",
    " \n",
    "Run Quality Checks"
   ]
  },
  {
   "cell_type": "code",
   "execution_count": null,
   "metadata": {
    "editable": true
   },
   "outputs": [],
   "source": [
    "# Perform quality checks here\n",
    "if (avgCountryGens.count() < 100){\n",
    "    print(\"Quality check FAILED ... not enough countries\")\n",
    "}\n",
    "zimb = avgCountryGens.filter(avgCountryGens.country_name == \"zimbabwe\")\n",
    "if((zimb.select('frst_gen') != 160) or (zimb.select('DiffGen2Gen3') != 0.07419444444444778)){\n",
    "    print(\"Quality check FAILED ... Zimbabwe values don't match up\")\n",
    "}"
   ]
  },
  {
   "cell_type": "code",
   "execution_count": null,
   "metadata": {
    "editable": true
   },
   "outputs": [],
   "source": [
    "#### 4.3 Data dictionary \n",
    "Create a data dictionary for your data model. For each field, provide a brief description of what the data is and where it came from. You can include the data dictionary in the notebook or in a separate file.\n",
    " \n",
    "country_name: lower case string of the name of the country. The field comes from joining the I94 Immigration Data Dataframes and World Temperature Data Dataframes\n",
    "DiffGen1Gen2: The difference in average temperature between generation 1 and generation 2. Comes from averarging the temperatures in the World Temperature Data Dataframe outlined above.\n",
    "DiffGen2Gen3: The difference in average temperature between generation 2 and generation 3. Comes from averarging the temperatures in the World Temperature Data Dataframe outlined above.\n",
    "third_gen: The number of emigres from the third generation. The field comes from the I94 Immigration Data Dataframe described above\n",
    "scnd_gen: The number of emigres from the second generation. The field comes from the I94 Immigration Data Dataframe described above\n",
    "frst_gen: The number of emigres from the first generation. The field comes from the I94 Immigration Data Dataframe described above"
   ]
  },
  {
   "cell_type": "markdown",
   "metadata": {
    "editable": true
   },
   "source": [
    "#### Step 5: Complete Project Write Up\n",
    "* Clearly state the rationale for the choice of tools and technologies for the project.\n",
    "* Propose how often the data should be updated and why.\n",
    "* Write a description of how you would approach the problem differently under the following scenarios:\n",
    " * The data was increased by 100x.\n",
    " * The data populates a dashboard that must be updated on a daily basis by 7am every day.\n",
    " * The database needed to be accessed by 100+ people."
   ]
  },
  {
   "cell_type": "code",
   "execution_count": null,
   "metadata": {
    "editable": true
   },
   "outputs": [],
   "source": []
  },
  {
   "cell_type": "code",
   "execution_count": null,
   "metadata": {
    "editable": true
   },
   "outputs": [],
   "source": []
  },
  {
   "cell_type": "code",
   "execution_count": null,
   "metadata": {
    "editable": true
   },
   "outputs": [],
   "source": []
  },
  {
   "cell_type": "code",
   "execution_count": null,
   "metadata": {
    "editable": true
   },
   "outputs": [],
   "source": []
  },
  {
   "cell_type": "code",
   "execution_count": null,
   "metadata": {
    "editable": true
   },
   "outputs": [],
   "source": []
  },
  {
   "cell_type": "code",
   "execution_count": null,
   "metadata": {
    "editable": true
   },
   "outputs": [],
   "source": []
  }
 ],
 "metadata": {
  "kernelspec": {
   "display_name": "Python 3",
   "language": "python",
   "name": "python3"
  },
  "language_info": {
   "codemirror_mode": {
    "name": "ipython",
    "version": 3
   },
   "file_extension": ".py",
   "mimetype": "text/x-python",
   "name": "python",
   "nbconvert_exporter": "python",
   "pygments_lexer": "ipython3",
   "version": "3.6.3"
  }
 },
 "nbformat": 4,
 "nbformat_minor": 4
}
